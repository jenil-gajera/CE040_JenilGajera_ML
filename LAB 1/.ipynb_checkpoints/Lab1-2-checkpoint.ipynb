{
 "cells": [
  {
   "cell_type": "raw",
   "metadata": {},
   "source": [
    "1) Create a Numpy array of size 4 x 5."
   ]
  },
  {
   "cell_type": "code",
   "execution_count": 1,
   "metadata": {},
   "outputs": [],
   "source": [
    "import numpy as np"
   ]
  },
  {
   "cell_type": "code",
   "execution_count": 3,
   "metadata": {},
   "outputs": [
    {
     "name": "stdout",
     "output_type": "stream",
     "text": [
      "[[ 1  2  3  4]\n",
      " [ 5  6  7  8]\n",
      " [ 9 10 11 12]\n",
      " [13 14 15 16]\n",
      " [17 18 19 20]]\n"
     ]
    }
   ],
   "source": [
    "npmatrix1 = np.array([[1,2,3,4],[5,6,7,8],[9,10,11,12],[13,14,15,16],[17,18,19,20]])\n",
    "print(npmatrix1)"
   ]
  },
  {
   "cell_type": "raw",
   "metadata": {},
   "source": [
    "2) Randomly initialize the array."
   ]
  },
  {
   "cell_type": "code",
   "execution_count": 4,
   "metadata": {},
   "outputs": [
    {
     "name": "stdout",
     "output_type": "stream",
     "text": [
      "[[ 6  3 10 12 18]\n",
      " [ 6 16 16 19 13]\n",
      " [11 15 16 16 18]\n",
      " [11  2 15 13  2]]\n"
     ]
    }
   ],
   "source": [
    "randomlyInitializedArray = np.random.randint(1,20,(4,5))\n",
    "print(randomlyInitializedArray)"
   ]
  },
  {
   "cell_type": "raw",
   "metadata": {},
   "source": [
    "3) Get the Transpose of the Matrix that you created. Create a square matrix and find its determinant."
   ]
  },
  {
   "cell_type": "code",
   "execution_count": 5,
   "metadata": {},
   "outputs": [
    {
     "name": "stdout",
     "output_type": "stream",
     "text": [
      "[[ 1  5  9 13 17]\n",
      " [ 2  6 10 14 18]\n",
      " [ 3  7 11 15 19]\n",
      " [ 4  8 12 16 20]]\n"
     ]
    }
   ],
   "source": [
    "print(npmatrix1.T)"
   ]
  },
  {
   "cell_type": "code",
   "execution_count": 6,
   "metadata": {},
   "outputs": [
    {
     "name": "stdout",
     "output_type": "stream",
     "text": [
      "[[1 1 1]\n",
      " [2 2 2]\n",
      " [3 3 3]]\n"
     ]
    }
   ],
   "source": [
    "squarematrix = np.array([[1,1,1],[2,2,2],[3,3,3]])\n",
    "print(squarematrix)"
   ]
  },
  {
   "cell_type": "code",
   "execution_count": 7,
   "metadata": {},
   "outputs": [
    {
     "name": "stdout",
     "output_type": "stream",
     "text": [
      "\n",
      "Determinant of given 3x3 matrix:\n",
      "0\n"
     ]
    }
   ],
   "source": [
    "# calculating the determinant of matrix\n",
    "det = np.linalg.det(squarematrix)\n",
    "  \n",
    "print(\"\\nDeterminant of given 3x3 matrix:\")\n",
    "print(int(det))"
   ]
  },
  {
   "cell_type": "raw",
   "metadata": {},
   "source": [
    "4) Create another matrix of size 5 x 4 and randomly initialize it."
   ]
  },
  {
   "cell_type": "code",
   "execution_count": 8,
   "metadata": {},
   "outputs": [
    {
     "name": "stdout",
     "output_type": "stream",
     "text": [
      "[[ 6 18  2  2]\n",
      " [23  9 25 17]\n",
      " [ 4  7  4 13]\n",
      " [23  5 10  5]\n",
      " [25  1 29 25]]\n"
     ]
    }
   ],
   "source": [
    "randomlyInitializedMatrix = np.random.randint(1,30,(5,4))\n",
    "print(randomlyInitializedMatrix)"
   ]
  },
  {
   "cell_type": "raw",
   "metadata": {},
   "source": [
    "5) Perform Matrix multiplication."
   ]
  },
  {
   "cell_type": "code",
   "execution_count": 10,
   "metadata": {},
   "outputs": [
    {
     "name": "stdout",
     "output_type": "stream",
     "text": [
      "[[1 1]\n",
      " [1 1]]\n",
      "[[1 2]\n",
      " [3 4]]\n"
     ]
    }
   ],
   "source": [
    "matrix2 = np.array([[1,2],[3,4]])\n",
    "matrix1 = np.array([[1,1],[1,1]])\n",
    "print(matrix1)\n",
    "print(matrix2)"
   ]
  },
  {
   "cell_type": "code",
   "execution_count": 12,
   "metadata": {},
   "outputs": [
    {
     "name": "stdout",
     "output_type": "stream",
     "text": [
      "[[4 6]\n",
      " [4 6]]\n"
     ]
    }
   ],
   "source": [
    "res = np.dot(matrix1,matrix2)\n",
    "print(res)"
   ]
  },
  {
   "cell_type": "raw",
   "metadata": {},
   "source": [
    "6) Perform element wise matrix multiplication."
   ]
  },
  {
   "cell_type": "code",
   "execution_count": 13,
   "metadata": {},
   "outputs": [
    {
     "name": "stdout",
     "output_type": "stream",
     "text": [
      "[[1 2]\n",
      " [3 4]]\n"
     ]
    }
   ],
   "source": [
    "result = matrix1 * matrix2\n",
    "print(result)"
   ]
  },
  {
   "cell_type": "raw",
   "metadata": {},
   "source": [
    "7) Find mean, median of the numpy array created."
   ]
  },
  {
   "cell_type": "code",
   "execution_count": 15,
   "metadata": {},
   "outputs": [
    {
     "name": "stdout",
     "output_type": "stream",
     "text": [
      "mean: 2.5\n"
     ]
    }
   ],
   "source": [
    "mean = np.mean(matrix2)\n",
    "print(\"mean:\",mean)"
   ]
  },
  {
   "cell_type": "code",
   "execution_count": 16,
   "metadata": {},
   "outputs": [
    {
     "name": "stdout",
     "output_type": "stream",
     "text": [
      "median 2.5\n"
     ]
    }
   ],
   "source": [
    "median = np.median(matrix2)\n",
    "print(\"median\",median)"
   ]
  },
  {
   "cell_type": "raw",
   "metadata": {},
   "source": [
    "8) Obtain each row in the second column of the first array."
   ]
  },
  {
   "cell_type": "code",
   "execution_count": 17,
   "metadata": {},
   "outputs": [
    {
     "data": {
      "text/plain": [
       "array([ 2,  6, 10, 14, 18])"
      ]
     },
     "execution_count": 17,
     "metadata": {},
     "output_type": "execute_result"
    }
   ],
   "source": [
    "npmatrix1[:,1]"
   ]
  },
  {
   "cell_type": "raw",
   "metadata": {},
   "source": [
    "9) Convert Numeric entries(columns) of Iris.csv to Mean Centered Version"
   ]
  },
  {
   "cell_type": "code",
   "execution_count": 25,
   "metadata": {},
   "outputs": [
    {
     "name": "stdout",
     "output_type": "stream",
     "text": [
      "Id               75.500000\n",
      "SepalLengthCm     5.843333\n",
      "SepalWidthCm      3.054000\n",
      "PetalLengthCm     3.758667\n",
      "PetalWidthCm      1.198667\n",
      "dtype: float64\n"
     ]
    }
   ],
   "source": [
    "import pandas as pd\n",
    "iris = pd.read_csv(\"C:\\\\Users\\Lenovo\\Documents\\Iris.csv\")\n",
    "print(iris.mean())"
   ]
  },
  {
   "cell_type": "raw",
   "metadata": {},
   "source": [
    "10) Study about numpy array attributes and implement it on the first matrix."
   ]
  },
  {
   "cell_type": "code",
   "execution_count": 27,
   "metadata": {},
   "outputs": [
    {
     "name": "stdout",
     "output_type": "stream",
     "text": [
      "Shape: (5, 4)\n",
      "Arrange: [0 1 2 3 4 5 6 7 8 9]\n",
      "Flags:\n",
      "   C_CONTIGUOUS : True\n",
      "  F_CONTIGUOUS : False\n",
      "  OWNDATA : True\n",
      "  WRITEABLE : True\n",
      "  ALIGNED : True\n",
      "  WRITEBACKIFCOPY : False\n",
      "  UPDATEIFCOPY : False\n",
      "\n",
      "Length of each elements in bytes: 4\n"
     ]
    }
   ],
   "source": [
    "print(\"Shape:\",npmatrix1.shape)\n",
    "a = np.arange(10) \n",
    "print(\"Arrange:\",a)\n",
    "print(\"Flags:\\n\",npmatrix1.flags)\n",
    "print(\"Length of each elements in bytes:\",npmatrix1.itemsize)"
   ]
  }
 ],
 "metadata": {
  "kernelspec": {
   "display_name": "Python 3",
   "language": "python",
   "name": "python3"
  },
  "language_info": {
   "codemirror_mode": {
    "name": "ipython",
    "version": 3
   },
   "file_extension": ".py",
   "mimetype": "text/x-python",
   "name": "python",
   "nbconvert_exporter": "python",
   "pygments_lexer": "ipython3",
   "version": "3.8.5"
  }
 },
 "nbformat": 4,
 "nbformat_minor": 4
}
