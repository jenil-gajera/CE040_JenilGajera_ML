{
 "cells": [
  {
   "cell_type": "code",
   "execution_count": 1,
   "metadata": {},
   "outputs": [
    {
     "name": "stderr",
     "output_type": "stream",
     "text": [
      "[nltk_data] Downloading package punkt to\n",
      "[nltk_data]     C:\\Users\\Lenovo\\AppData\\Roaming\\nltk_data...\n",
      "[nltk_data]   Unzipping tokenizers\\punkt.zip.\n"
     ]
    },
    {
     "data": {
      "text/plain": [
       "True"
      ]
     },
     "execution_count": 1,
     "metadata": {},
     "output_type": "execute_result"
    }
   ],
   "source": [
    "import nltk\n",
    "nltk.download('punkt')"
   ]
  },
  {
   "cell_type": "code",
   "execution_count": 7,
   "metadata": {},
   "outputs": [
    {
     "name": "stdout",
     "output_type": "stream",
     "text": [
      "\"\"\"The lion (Panthera leo) is a large cat of the genus Panthera native to Africa and India. It has a muscular, deep-chested body, short, rounded head, round ears, and a hairy tuft at the end of its tail. It is sexually dimorphic; adult male lions are larger than females and have a prominent mane. It is a social species, forming groups called prides. A lion's pride consists of a few adult males, related females, and cubs. Groups of female lions usually hunt together, preying mostly on large ungulates. The lion is an apex and keystone predator; although some lions scavenge when opportunities occur and have been known to hunt humans, the species typically does not.\"\"\"\n"
     ]
    }
   ],
   "source": [
    "textfile = open(\"sampletextfile.txt\")\n",
    "text = textfile.read()\n",
    "print(text)"
   ]
  },
  {
   "cell_type": "code",
   "execution_count": 8,
   "metadata": {},
   "outputs": [
    {
     "name": "stdout",
     "output_type": "stream",
     "text": [
      "['\"\"\"The lion (Panthera leo) is a large cat of the genus Panthera native to Africa and India.', 'It has a muscular, deep-chested body, short, rounded head, round ears, and a hairy tuft at the end of its tail.', 'It is sexually dimorphic; adult male lions are larger than females and have a prominent mane.', 'It is a social species, forming groups called prides.', \"A lion's pride consists of a few adult males, related females, and cubs.\", 'Groups of female lions usually hunt together, preying mostly on large ungulates.', 'The lion is an apex and keystone predator; although some lions scavenge when opportunities occur and have been known to hunt humans, the species typically does not.\"\"\"']\n"
     ]
    }
   ],
   "source": [
    "from nltk.tokenize import sent_tokenize\n",
    "tokenized_text=sent_tokenize(text)\n",
    "print(tokenized_text)"
   ]
  },
  {
   "cell_type": "code",
   "execution_count": 9,
   "metadata": {},
   "outputs": [
    {
     "name": "stdout",
     "output_type": "stream",
     "text": [
      "['``', '``', \"''\", 'The', 'lion', '(', 'Panthera', 'leo', ')', 'is', 'a', 'large', 'cat', 'of', 'the', 'genus', 'Panthera', 'native', 'to', 'Africa', 'and', 'India', '.', 'It', 'has', 'a', 'muscular', ',', 'deep-chested', 'body', ',', 'short', ',', 'rounded', 'head', ',', 'round', 'ears', ',', 'and', 'a', 'hairy', 'tuft', 'at', 'the', 'end', 'of', 'its', 'tail', '.', 'It', 'is', 'sexually', 'dimorphic', ';', 'adult', 'male', 'lions', 'are', 'larger', 'than', 'females', 'and', 'have', 'a', 'prominent', 'mane', '.', 'It', 'is', 'a', 'social', 'species', ',', 'forming', 'groups', 'called', 'prides', '.', 'A', 'lion', \"'s\", 'pride', 'consists', 'of', 'a', 'few', 'adult', 'males', ',', 'related', 'females', ',', 'and', 'cubs', '.', 'Groups', 'of', 'female', 'lions', 'usually', 'hunt', 'together', ',', 'preying', 'mostly', 'on', 'large', 'ungulates', '.', 'The', 'lion', 'is', 'an', 'apex', 'and', 'keystone', 'predator', ';', 'although', 'some', 'lions', 'scavenge', 'when', 'opportunities', 'occur', 'and', 'have', 'been', 'known', 'to', 'hunt', 'humans', ',', 'the', 'species', 'typically', 'does', 'not', '.', \"''\", \"''\", \"''\"]\n"
     ]
    }
   ],
   "source": [
    "from nltk.tokenize import word_tokenize\n",
    "tokenized_word=word_tokenize(text)\n",
    "print(tokenized_word)"
   ]
  },
  {
   "cell_type": "code",
   "execution_count": 10,
   "metadata": {},
   "outputs": [
    {
     "name": "stdout",
     "output_type": "stream",
     "text": [
      "<FreqDist with 90 samples and 143 outcomes>\n"
     ]
    }
   ],
   "source": [
    "from nltk.probability import FreqDist\n",
    "fdist = FreqDist(tokenized_word)\n",
    "print(fdist)"
   ]
  },
  {
   "cell_type": "code",
   "execution_count": 11,
   "metadata": {},
   "outputs": [
    {
     "data": {
      "text/plain": [
       "[(',', 10), ('.', 7)]"
      ]
     },
     "execution_count": 11,
     "metadata": {},
     "output_type": "execute_result"
    }
   ],
   "source": [
    "fdist.most_common(2)"
   ]
  },
  {
   "cell_type": "code",
   "execution_count": 12,
   "metadata": {},
   "outputs": [
    {
     "data": {
      "image/png": "[encoded data removed]",
      "text/plain": [
       "<Figure size 432x288 with 1 Axes>"
      ]
     },
     "metadata": {
      "needs_background": "light"
     },
     "output_type": "display_data"
    }
   ],
   "source": [
    "# Frequency Distribution Plot\n",
    "import matplotlib.pyplot as plt\n",
    "fdist.plot(30,cumulative=False)\n",
    "plt.show()"
   ]
  },
  {
   "cell_type": "code",
   "execution_count": 14,
   "metadata": {},
   "outputs": [
    {
     "name": "stderr",
     "output_type": "stream",
     "text": [
      "[nltk_data] Downloading package stopwords to\n",
      "[nltk_data]     C:\\Users\\Lenovo\\AppData\\Roaming\\nltk_data...\n"
     ]
    },
    {
     "name": "stdout",
     "output_type": "stream",
     "text": [
      "{'hadn', 'did', 'do', 'such', 'other', \"shan't\", 'can', 'ours', 'this', \"haven't\", 'ourselves', \"you've\", 'through', 'down', 'more', 'because', 'haven', 'few', 'a', 'again', 'nor', 'for', 'wouldn', 'from', 'on', 'shan', 'myself', 'was', \"couldn't\", 'her', \"mustn't\", 'its', 'being', 'my', 'or', 'each', 've', \"should've\", 'm', 'what', 'here', 'and', 'while', 'o', 'before', \"you'd\", 'hers', 'under', 'you', 'than', 'mustn', 'of', 'why', 'too', \"don't\", 'further', 'an', 'all', 'above', 'yourself', 'have', 'if', 'off', 'yourselves', 're', 'mightn', 'which', 'doesn', \"won't\", 'just', \"wouldn't\", 'as', 'isn', 'won', 'by', 'then', 'ain', 'needn', 'them', 'over', 'about', \"she's\", 'will', 'to', 'where', \"needn't\", 'is', 'below', 'didn', 'those', 'but', \"you're\", 'am', \"you'll\", 'yours', 'with', 'when', 'some', 'wasn', 'during', 'the', 'he', 'between', 'very', 'only', 'ma', 'had', 'hasn', 'aren', 'no', \"it's\", \"mightn't\", \"that'll\", 'she', 'who', 'his', 'been', 'weren', 'both', 'don', 'own', 'theirs', 'has', \"shouldn't\", 'up', 'same', 'doing', 'once', 'it', 'i', 'at', 'these', 'are', 'in', 'herself', \"wasn't\", 'against', 'after', \"aren't\", 'shouldn', 'me', \"hadn't\", 'so', 'him', 'any', 'himself', \"doesn't\", 'having', 'not', 'we', 'into', 'they', 'there', 'their', 's', 'be', 'out', 'itself', \"isn't\", 'll', \"didn't\", 'our', 'until', 'themselves', 'how', 'y', 'that', 'couldn', 'does', 'your', 'should', 'whom', 'were', 'now', \"hasn't\", 't', 'most', 'd', \"weren't\"}\n"
     ]
    },
    {
     "name": "stderr",
     "output_type": "stream",
     "text": [
      "[nltk_data]   Unzipping corpora\\stopwords.zip.\n"
     ]
    }
   ],
   "source": [
    "nltk.download('stopwords')\n",
    "from nltk.corpus import stopwords\n",
    "stop_words=set(stopwords.words(\"english\"))\n",
    "print(stop_words)"
   ]
  },
  {
   "cell_type": "code",
   "execution_count": 16,
   "metadata": {},
   "outputs": [
    {
     "data": {
      "image/png": "[encoded data removed]",
      "text/plain": [
       "<Figure size 360x360 with 1 Axes>"
      ]
     },
     "metadata": {},
     "output_type": "display_data"
    }
   ],
   "source": [
    "import matplotlib.pyplot as plt\n",
    "fig = plt.figure(figsize=(5, 5))\n",
    "labels = 'Maths', 'Chemistry','Physics'\n",
    "sizes = [45, 30, 25]\n",
    "plt.pie(sizes, labels=labels, autopct='%.2f%%',shadow=True, startangle=90)\n",
    "plt.axis('equal')\n",
    "plt.show()"
   ]
  },
  {
   "cell_type": "code",
   "execution_count": 17,
   "metadata": {},
   "outputs": [
    {
     "name": "stdout",
     "output_type": "stream",
     "text": [
      "\u001b[92m\"\"\"The lion (Panthera leo) is a large cat of the genus Panthera native to Africa and India. It has a muscular, deep-chested body, short, rounded head, round ears, and a hairy tuft at the end of its tail. It is sexually dimorphic; adult male lions are larger than females and have a prominent mane. It is a social species, forming groups called prides. A lion's pride consists of a few adult males, related females, and cubs. Groups of female lions usually hunt together, preying mostly on large ungulates. The lion is an apex and keystone predator; although some lions scavenge when opportunities occur and have been known to hunt humans, the species typically does not.\"\"\"\n"
     ]
    }
   ],
   "source": [
    "# print positive in greeen\n",
    "print('\\033[92m' + text)"
   ]
  },
  {
   "cell_type": "code",
   "execution_count": 18,
   "metadata": {},
   "outputs": [
    {
     "name": "stdout",
     "output_type": "stream",
     "text": [
      "\u001b[91m\"\"\"The lion (Panthera leo) is a large cat of the genus Panthera native to Africa and India. It has a muscular, deep-chested body, short, rounded head, round ears, and a hairy tuft at the end of its tail. It is sexually dimorphic; adult male lions are larger than females and have a prominent mane. It is a social species, forming groups called prides. A lion's pride consists of a few adult males, related females, and cubs. Groups of female lions usually hunt together, preying mostly on large ungulates. The lion is an apex and keystone predator; although some lions scavenge when opportunities occur and have been known to hunt humans, the species typically does not.\"\"\"\n"
     ]
    }
   ],
   "source": [
    "# print negative in red\n",
    "print('\\033[91m' + text)"
   ]
  },
  {
   "cell_type": "code",
   "execution_count": 22,
   "metadata": {},
   "outputs": [
    {
     "name": "stdout",
     "output_type": "stream",
     "text": [
      "stemmed words:\n",
      "['\"', '\"', '\"', 'T', 'h', 'e', ' ', 'l', 'i', 'o', 'n', ' ', '(', 'P', 'a', 'n', 't', 'h', 'e', 'r', 'a', ' ', 'l', 'e', 'o', ')', ' ', 'i', 's', ' ', 'a', ' ', 'l', 'a', 'r', 'g', 'e', ' ', 'c', 'a', 't', ' ', 'o', 'f', ' ', 't', 'h', 'e', ' ', 'g', 'e', 'n', 'u', 's', ' ', 'P', 'a', 'n', 't', 'h', 'e', 'r', 'a', ' ', 'n', 'a', 't', 'i', 'v', 'e', ' ', 't', 'o', ' ', 'A', 'f', 'r', 'i', 'c', 'a', ' ', 'a', 'n', 'd', ' ', 'I', 'n', 'd', 'i', 'a', '.', ' ', 'I', 't', ' ', 'h', 'a', 's', ' ', 'a', ' ', 'm', 'u', 's', 'c', 'u', 'l', 'a', 'r', ',', ' ', 'd', 'e', 'e', 'p', '-', 'c', 'h', 'e', 's', 't', 'e', 'd', ' ', 'b', 'o', 'd', 'y', ',', ' ', 's', 'h', 'o', 'r', 't', ',', ' ', 'r', 'o', 'u', 'n', 'd', 'e', 'd', ' ', 'h', 'e', 'a', 'd', ',', ' ', 'r', 'o', 'u', 'n', 'd', ' ', 'e', 'a', 'r', 's', ',', ' ', 'a', 'n', 'd', ' ', 'a', ' ', 'h', 'a', 'i', 'r', 'y', ' ', 't', 'u', 'f', 't', ' ', 'a', 't', ' ', 't', 'h', 'e', ' ', 'e', 'n', 'd', ' ', 'o', 'f', ' ', 'i', 't', 's', ' ', 't', 'a', 'i', 'l', '.', ' ', 'I', 't', ' ', 'i', 's', ' ', 's', 'e', 'x', 'u', 'a', 'l', 'l', 'y', ' ', 'd', 'i', 'm', 'o', 'r', 'p', 'h', 'i', 'c', ';', ' ', 'a', 'd', 'u', 'l', 't', ' ', 'm', 'a', 'l', 'e', ' ', 'l', 'i', 'o', 'n', 's', ' ', 'a', 'r', 'e', ' ', 'l', 'a', 'r', 'g', 'e', 'r', ' ', 't', 'h', 'a', 'n', ' ', 'f', 'e', 'm', 'a', 'l', 'e', 's', ' ', 'a', 'n', 'd', ' ', 'h', 'a', 'v', 'e', ' ', 'a', ' ', 'p', 'r', 'o', 'm', 'i', 'n', 'e', 'n', 't', ' ', 'm', 'a', 'n', 'e', '.', ' ', 'I', 't', ' ', 'i', 's', ' ', 'a', ' ', 's', 'o', 'c', 'i', 'a', 'l', ' ', 's', 'p', 'e', 'c', 'i', 'e', 's', ',', ' ', 'f', 'o', 'r', 'm', 'i', 'n', 'g', ' ', 'g', 'r', 'o', 'u', 'p', 's', ' ', 'c', 'a', 'l', 'l', 'e', 'd', ' ', 'p', 'r', 'i', 'd', 'e', 's', '.', ' ', 'A', ' ', 'l', 'i', 'o', 'n', \"'\", 's', ' ', 'p', 'r', 'i', 'd', 'e', ' ', 'c', 'o', 'n', 's', 'i', 's', 't', 's', ' ', 'o', 'f', ' ', 'a', ' ', 'f', 'e', 'w', ' ', 'a', 'd', 'u', 'l', 't', ' ', 'm', 'a', 'l', 'e', 's', ',', ' ', 'r', 'e', 'l', 'a', 't', 'e', 'd', ' ', 'f', 'e', 'm', 'a', 'l', 'e', 's', ',', ' ', 'a', 'n', 'd', ' ', 'c', 'u', 'b', 's', '.', ' ', 'G', 'r', 'o', 'u', 'p', 's', ' ', 'o', 'f', ' ', 'f', 'e', 'm', 'a', 'l', 'e', ' ', 'l', 'i', 'o', 'n', 's', ' ', 'u', 's', 'u', 'a', 'l', 'l', 'y', ' ', 'h', 'u', 'n', 't', ' ', 't', 'o', 'g', 'e', 't', 'h', 'e', 'r', ',', ' ', 'p', 'r', 'e', 'y', 'i', 'n', 'g', ' ', 'm', 'o', 's', 't', 'l', 'y', ' ', 'o', 'n', ' ', 'l', 'a', 'r', 'g', 'e', ' ', 'u', 'n', 'g', 'u', 'l', 'a', 't', 'e', 's', '.', ' ', 'T', 'h', 'e', ' ', 'l', 'i', 'o', 'n', ' ', 'i', 's', ' ', 'a', 'n', ' ', 'a', 'p', 'e', 'x', ' ', 'a', 'n', 'd', ' ', 'k', 'e', 'y', 's', 't', 'o', 'n', 'e', ' ', 'p', 'r', 'e', 'd', 'a', 't', 'o', 'r', ';', ' ', 'a', 'l', 't', 'h', 'o', 'u', 'g', 'h', ' ', 's', 'o', 'm', 'e', ' ', 'l', 'i', 'o', 'n', 's', ' ', 's', 'c', 'a', 'v', 'e', 'n', 'g', 'e', ' ', 'w', 'h', 'e', 'n', ' ', 'o', 'p', 'p', 'o', 'r', 't', 'u', 'n', 'i', 't', 'i', 'e', 's', ' ', 'o', 'c', 'c', 'u', 'r', ' ', 'a', 'n', 'd', ' ', 'h', 'a', 'v', 'e', ' ', 'b', 'e', 'e', 'n', ' ', 'k', 'n', 'o', 'w', 'n', ' ', 't', 'o', ' ', 'h', 'u', 'n', 't', ' ', 'h', 'u', 'm', 'a', 'n', 's', ',', ' ', 't', 'h', 'e', ' ', 's', 'p', 'e', 'c', 'i', 'e', 's', ' ', 't', 'y', 'p', 'i', 'c', 'a', 'l', 'l', 'y', ' ', 'd', 'o', 'e', 's', ' ', 'n', 'o', 't', '.', '\"', '\"', '\"']\n"
     ]
    }
   ],
   "source": [
    "from nltk.stem import PorterStemmer\n",
    "stemmer = PorterStemmer()\n",
    "\n",
    "# Create an empty list to store the stems\n",
    "tweets_stem = []\n",
    "\n",
    "for word in text:\n",
    "    stem_word = stemmer.stem(word) # stemming word\n",
    "    tweets_stem.append(stem_word) # append to the list\n",
    "\n",
    "print('stemmed words:')\n",
    "print(tweets_stem)"
   ]
  },
  {
   "cell_type": "code",
   "execution_count": 27,
   "metadata": {},
   "outputs": [
    {
     "name": "stdout",
     "output_type": "stream",
     "text": [
      "Tokenized Sentence: ['``', '``', \"''\", 'The', 'lion', '(', 'Panthera', 'leo', ')', 'is', 'a', 'large', 'cat', 'of', 'the', 'genus', 'Panthera', 'native', 'to', 'Africa', 'and', 'India', '.', 'It', 'has', 'a', 'muscular', ',', 'deep-chested', 'body', ',', 'short', ',', 'rounded', 'head', ',', 'round', 'ears', ',', 'and', 'a', 'hairy', 'tuft', 'at', 'the', 'end', 'of', 'its', 'tail', '.', 'It', 'is', 'sexually', 'dimorphic', ';', 'adult', 'male', 'lions', 'are', 'larger', 'than', 'females', 'and', 'have', 'a', 'prominent', 'mane', '.', 'It', 'is', 'a', 'social', 'species', ',', 'forming', 'groups', 'called', 'prides', '.', 'A', 'lion', \"'s\", 'pride', 'consists', 'of', 'a', 'few', 'adult', 'males', ',', 'related', 'females', ',', 'and', 'cubs', '.', 'Groups', 'of', 'female', 'lions', 'usually', 'hunt', 'together', ',', 'preying', 'mostly', 'on', 'large', 'ungulates', '.', 'The', 'lion', 'is', 'an', 'apex', 'and', 'keystone', 'predator', ';', 'although', 'some', 'lions', 'scavenge', 'when', 'opportunities', 'occur', 'and', 'have', 'been', 'known', 'to', 'hunt', 'humans', ',', 'the', 'species', 'typically', 'does', 'not', '.', \"''\", \"''\", \"''\"]\n",
      "\n",
      "Filterd Sentence: ['``', '``', \"''\", 'The', 'lion', '(', 'Panthera', 'leo', ')', 'large', 'cat', 'genus', 'Panthera', 'native', 'Africa', 'India', '.', 'It', 'muscular', ',', 'deep-chested', 'body', ',', 'short', ',', 'rounded', 'head', ',', 'round', 'ears', ',', 'hairy', 'tuft', 'end', 'tail', '.', 'It', 'sexually', 'dimorphic', ';', 'adult', 'male', 'lions', 'larger', 'females', 'prominent', 'mane', '.', 'It', 'social', 'species', ',', 'forming', 'groups', 'called', 'prides', '.', 'A', 'lion', \"'s\", 'pride', 'consists', 'adult', 'males', ',', 'related', 'females', ',', 'cubs', '.', 'Groups', 'female', 'lions', 'usually', 'hunt', 'together', ',', 'preying', 'mostly', 'large', 'ungulates', '.', 'The', 'lion', 'apex', 'keystone', 'predator', ';', 'although', 'lions', 'scavenge', 'opportunities', 'occur', 'known', 'hunt', 'humans', ',', 'species', 'typically', '.', \"''\", \"''\", \"''\"]\n"
     ]
    }
   ],
   "source": [
    "filtered_sent=[]\n",
    "for w in tokenized_word:\n",
    "    if w not in stop_words:\n",
    "        filtered_sent.append(w)\n",
    "print(\"Tokenized Sentence:\",tokenized_word)\n",
    "print()\n",
    "print(\"Filterd Sentence:\",filtered_sent)"
   ]
  },
  {
   "cell_type": "code",
   "execution_count": null,
   "metadata": {},
   "outputs": [],
   "source": []
  }
 ],
 "metadata": {
  "kernelspec": {
   "display_name": "Python 3",
   "language": "python",
   "name": "python3"
  },
  "language_info": {
   "codemirror_mode": {
    "name": "ipython",
    "version": 3
   },
   "file_extension": ".py",
   "mimetype": "text/x-python",
   "name": "python",
   "nbconvert_exporter": "python",
   "pygments_lexer": "ipython3",
   "version": "3.8.5"
  }
 },
 "nbformat": 4,
 "nbformat_minor": 4
}
