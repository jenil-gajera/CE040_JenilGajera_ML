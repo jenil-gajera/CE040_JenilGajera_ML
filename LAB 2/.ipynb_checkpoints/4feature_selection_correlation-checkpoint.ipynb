{
 "cells": [
  {
   "cell_type": "markdown",
   "metadata": {
    "_uuid": "9dd9e07c590ca22f0c525222f60f0ebff4e092c6",
    "id": "fcCBT5fhcTdK"
   },
   "source": [
    "<a id=\"1\"></a> \n",
    "## Correlation\n",
    "<a id=\"1-1\"></a>\n",
    "### What is correlation?\n",
    "Correlation is a statistical term which in common usage refers to how close two variables are to having a linear relationship with each other.\n",
    "\n",
    "For example, two variables which are linearly dependent (say, **x** and **y** which depend on each other as x = 2y) will have a higher correlation than two variables which are non-linearly dependent (say, u and v which depend on each other as u = v2)\n",
    "<a id=\"1-2\"></a>\n",
    "### How does correlation help in feature selection?\n",
    "Features with high correlation are more linearly dependent and hence have almost the same effect on the dependent variable. So, when two features have high correlation, we can drop one of the two features."
   ]
  },
  {
   "cell_type": "markdown",
   "metadata": {
    "_uuid": "a607218412fd4afe70ba2b09a24e12e827774aa1",
    "id": "hvdbhkd_cTdb"
   },
   "source": [
    "### Import the necessary libraries"
   ]
  },
  {
   "cell_type": "code",
   "execution_count": 1,
   "metadata": {
    "_uuid": "3e410c3508beb0ff1c681badbacb4e0d32ceeb0a",
    "id": "ItOMAaLQcTdg"
   },
   "outputs": [],
   "source": [
    "import numpy as np\n",
    "import pandas as pd\n",
    "import seaborn as sns"
   ]
  },
  {
   "cell_type": "markdown",
   "metadata": {
    "_uuid": "c3fb5c911a3ab7c120bc3e0abe013e68174776a0",
    "id": "vQ1z4ec6cTeE"
   },
   "source": [
    "### Loading the dataset"
   ]
  },
  {
   "cell_type": "code",
   "execution_count": 2,
   "metadata": {
    "_uuid": "f9e7bd1069bcc06d3ccb816ae5b6ba6d84041386",
    "id": "zrX22C-bcTeI"
   },
   "outputs": [],
   "source": [
    "data = pd.read_csv('Data_for_Correlation.csv')"
   ]
  },
  {
   "cell_type": "code",
   "execution_count": 3,
   "metadata": {
    "_uuid": "abf818acd5b9752cb1baa879e11cb21e29c1f30b",
    "colab": {
     "base_uri": "https://localhost:8080/",
     "height": 206
    },
    "id": "Z7VOaK9xcTeZ",
    "outputId": "b49b7950-6c96-4fed-f5ae-a40c2337a350"
   },
   "outputs": [
    {
     "data": {
      "text/html": [
       "<div>\n",
       "<style scoped>\n",
       "    .dataframe tbody tr th:only-of-type {\n",
       "        vertical-align: middle;\n",
       "    }\n",
       "\n",
       "    .dataframe tbody tr th {\n",
       "        vertical-align: top;\n",
       "    }\n",
       "\n",
       "    .dataframe thead th {\n",
       "        text-align: right;\n",
       "    }\n",
       "</style>\n",
       "<table border=\"1\" class=\"dataframe\">\n",
       "  <thead>\n",
       "    <tr style=\"text-align: right;\">\n",
       "      <th></th>\n",
       "      <th>X1</th>\n",
       "      <th>X2</th>\n",
       "      <th>X3</th>\n",
       "      <th>X4</th>\n",
       "      <th>Y</th>\n",
       "    </tr>\n",
       "  </thead>\n",
       "  <tbody>\n",
       "    <tr>\n",
       "      <th>0</th>\n",
       "      <td>1</td>\n",
       "      <td>1</td>\n",
       "      <td>4</td>\n",
       "      <td>-2</td>\n",
       "      <td>1</td>\n",
       "    </tr>\n",
       "    <tr>\n",
       "      <th>1</th>\n",
       "      <td>2</td>\n",
       "      <td>4</td>\n",
       "      <td>5</td>\n",
       "      <td>-4</td>\n",
       "      <td>1</td>\n",
       "    </tr>\n",
       "    <tr>\n",
       "      <th>2</th>\n",
       "      <td>3</td>\n",
       "      <td>9</td>\n",
       "      <td>6</td>\n",
       "      <td>3</td>\n",
       "      <td>0</td>\n",
       "    </tr>\n",
       "    <tr>\n",
       "      <th>3</th>\n",
       "      <td>4</td>\n",
       "      <td>16</td>\n",
       "      <td>7</td>\n",
       "      <td>4</td>\n",
       "      <td>0</td>\n",
       "    </tr>\n",
       "    <tr>\n",
       "      <th>4</th>\n",
       "      <td>5</td>\n",
       "      <td>25</td>\n",
       "      <td>8</td>\n",
       "      <td>25</td>\n",
       "      <td>1</td>\n",
       "    </tr>\n",
       "  </tbody>\n",
       "</table>\n",
       "</div>"
      ],
      "text/plain": [
       "   X1  X2  X3  X4  Y\n",
       "0   1   1   4  -2  1\n",
       "1   2   4   5  -4  1\n",
       "2   3   9   6   3  0\n",
       "3   4  16   7   4  0\n",
       "4   5  25   8  25  1"
      ]
     },
     "execution_count": 3,
     "metadata": {},
     "output_type": "execute_result"
    }
   ],
   "source": [
    "data.head()"
   ]
  },
  {
   "cell_type": "markdown",
   "metadata": {
    "_uuid": "b8c52a2a18b253cb606aca7b3a3a5fa48ca8f0e0",
    "id": "UgKKWfSRcTeo"
   },
   "source": [
    "Removing the Class Label entry (Y)"
   ]
  },
  {
   "cell_type": "code",
   "execution_count": 4,
   "metadata": {
    "_uuid": "30a5f63e2243d54f5a74b7f9d33b952c9ae57016",
    "colab": {
     "base_uri": "https://localhost:8080/",
     "height": 206
    },
    "id": "RuCwJs8bcTer",
    "outputId": "86ba79a2-f8a2-4993-e06b-d7ad8119a982"
   },
   "outputs": [
    {
     "data": {
      "text/html": [
       "<div>\n",
       "<style scoped>\n",
       "    .dataframe tbody tr th:only-of-type {\n",
       "        vertical-align: middle;\n",
       "    }\n",
       "\n",
       "    .dataframe tbody tr th {\n",
       "        vertical-align: top;\n",
       "    }\n",
       "\n",
       "    .dataframe thead th {\n",
       "        text-align: right;\n",
       "    }\n",
       "</style>\n",
       "<table border=\"1\" class=\"dataframe\">\n",
       "  <thead>\n",
       "    <tr style=\"text-align: right;\">\n",
       "      <th></th>\n",
       "      <th>X1</th>\n",
       "      <th>X2</th>\n",
       "      <th>X3</th>\n",
       "      <th>X4</th>\n",
       "    </tr>\n",
       "  </thead>\n",
       "  <tbody>\n",
       "    <tr>\n",
       "      <th>0</th>\n",
       "      <td>1</td>\n",
       "      <td>1</td>\n",
       "      <td>4</td>\n",
       "      <td>-2</td>\n",
       "    </tr>\n",
       "    <tr>\n",
       "      <th>1</th>\n",
       "      <td>2</td>\n",
       "      <td>4</td>\n",
       "      <td>5</td>\n",
       "      <td>-4</td>\n",
       "    </tr>\n",
       "    <tr>\n",
       "      <th>2</th>\n",
       "      <td>3</td>\n",
       "      <td>9</td>\n",
       "      <td>6</td>\n",
       "      <td>3</td>\n",
       "    </tr>\n",
       "    <tr>\n",
       "      <th>3</th>\n",
       "      <td>4</td>\n",
       "      <td>16</td>\n",
       "      <td>7</td>\n",
       "      <td>4</td>\n",
       "    </tr>\n",
       "    <tr>\n",
       "      <th>4</th>\n",
       "      <td>5</td>\n",
       "      <td>25</td>\n",
       "      <td>8</td>\n",
       "      <td>25</td>\n",
       "    </tr>\n",
       "  </tbody>\n",
       "</table>\n",
       "</div>"
      ],
      "text/plain": [
       "   X1  X2  X3  X4\n",
       "0   1   1   4  -2\n",
       "1   2   4   5  -4\n",
       "2   3   9   6   3\n",
       "3   4  16   7   4\n",
       "4   5  25   8  25"
      ]
     },
     "execution_count": 4,
     "metadata": {},
     "output_type": "execute_result"
    }
   ],
   "source": [
    "data = data.iloc[:,:-1]\n",
    "data.head()"
   ]
  },
  {
   "cell_type": "code",
   "execution_count": 5,
   "metadata": {
    "_uuid": "8e5b456860d5946e3659979beccf4508332cba0e",
    "colab": {
     "base_uri": "https://localhost:8080/"
    },
    "id": "adnDPMU-cTfM",
    "outputId": "71d18a7c-fbf0-4b5a-cbf0-c9d8ef764c6c"
   },
   "outputs": [
    {
     "name": "stdout",
     "output_type": "stream",
     "text": [
      "<class 'pandas.core.frame.DataFrame'>\n",
      "RangeIndex: 14 entries, 0 to 13\n",
      "Data columns (total 4 columns):\n",
      " #   Column  Non-Null Count  Dtype\n",
      "---  ------  --------------  -----\n",
      " 0   X1      14 non-null     int64\n",
      " 1   X2      14 non-null     int64\n",
      " 2   X3      14 non-null     int64\n",
      " 3   X4      14 non-null     int64\n",
      "dtypes: int64(4)\n",
      "memory usage: 576.0 bytes\n"
     ]
    }
   ],
   "source": [
    "data.info()"
   ]
  },
  {
   "cell_type": "markdown",
   "metadata": {
    "_uuid": "1783019dec15f155b97050626ef60551f1d5f3c4",
    "id": "rQXmggMdcTfY"
   },
   "source": [
    "<a id=\"3-2\"></a>\n",
    "## Selecting features based on correlation\n",
    "Generating the correlation matrix"
   ]
  },
  {
   "cell_type": "code",
   "execution_count": 6,
   "metadata": {
    "_uuid": "083036d67602027661d7cf882653dbb74644315c",
    "colab": {
     "base_uri": "https://localhost:8080/",
     "height": 174
    },
    "id": "WOqEIH0McTfa",
    "outputId": "e239f8dd-3be1-4c02-a0cf-956d136bc121"
   },
   "outputs": [
    {
     "data": {
      "text/html": [
       "<div>\n",
       "<style scoped>\n",
       "    .dataframe tbody tr th:only-of-type {\n",
       "        vertical-align: middle;\n",
       "    }\n",
       "\n",
       "    .dataframe tbody tr th {\n",
       "        vertical-align: top;\n",
       "    }\n",
       "\n",
       "    .dataframe thead th {\n",
       "        text-align: right;\n",
       "    }\n",
       "</style>\n",
       "<table border=\"1\" class=\"dataframe\">\n",
       "  <thead>\n",
       "    <tr style=\"text-align: right;\">\n",
       "      <th></th>\n",
       "      <th>X1</th>\n",
       "      <th>X2</th>\n",
       "      <th>X3</th>\n",
       "      <th>X4</th>\n",
       "    </tr>\n",
       "  </thead>\n",
       "  <tbody>\n",
       "    <tr>\n",
       "      <th>X1</th>\n",
       "      <td>1.000000</td>\n",
       "      <td>0.972714</td>\n",
       "      <td>1.000000</td>\n",
       "      <td>0.263266</td>\n",
       "    </tr>\n",
       "    <tr>\n",
       "      <th>X2</th>\n",
       "      <td>0.972714</td>\n",
       "      <td>1.000000</td>\n",
       "      <td>0.972714</td>\n",
       "      <td>0.163575</td>\n",
       "    </tr>\n",
       "    <tr>\n",
       "      <th>X3</th>\n",
       "      <td>1.000000</td>\n",
       "      <td>0.972714</td>\n",
       "      <td>1.000000</td>\n",
       "      <td>0.263266</td>\n",
       "    </tr>\n",
       "    <tr>\n",
       "      <th>X4</th>\n",
       "      <td>0.263266</td>\n",
       "      <td>0.163575</td>\n",
       "      <td>0.263266</td>\n",
       "      <td>1.000000</td>\n",
       "    </tr>\n",
       "  </tbody>\n",
       "</table>\n",
       "</div>"
      ],
      "text/plain": [
       "          X1        X2        X3        X4\n",
       "X1  1.000000  0.972714  1.000000  0.263266\n",
       "X2  0.972714  1.000000  0.972714  0.163575\n",
       "X3  1.000000  0.972714  1.000000  0.263266\n",
       "X4  0.263266  0.163575  0.263266  1.000000"
      ]
     },
     "execution_count": 6,
     "metadata": {},
     "output_type": "execute_result"
    }
   ],
   "source": [
    "corr = data.corr()\n",
    "corr.head()"
   ]
  },
  {
   "cell_type": "markdown",
   "metadata": {
    "_uuid": "9b527f6897c96ee3c2ad177a6ff8b534ea48a537",
    "id": "YswbGlrKcTfo"
   },
   "source": [
    "Generating the correlation heatmap"
   ]
  },
  {
   "cell_type": "code",
   "execution_count": 7,
   "metadata": {
    "_uuid": "7d4de17f2e5239e465cbd16d8f69b336e8bc9ee5",
    "colab": {
     "base_uri": "https://localhost:8080/",
     "height": 286
    },
    "id": "NBoSD6wpcTfr",
    "outputId": "52b0fa49-7b2f-487d-d884-e13b867e3c20"
   },
   "outputs": [
    {
     "data": {
      "text/plain": [
       "<matplotlib.axes._subplots.AxesSubplot at 0x7fceb1f4be50>"
      ]
     },
     "execution_count": 7,
     "metadata": {},
     "output_type": "execute_result"
    },
    {
     "data": {
      "image/png": "[encoded data removed]",
      "text/plain": [
       "<Figure size 432x288 with 2 Axes>"
      ]
     },
     "metadata": {
      "needs_background": "light"
     },
     "output_type": "display_data"
    }
   ],
   "source": [
    "sns.heatmap(corr)"
   ]
  },
  {
   "cell_type": "markdown",
   "metadata": {
    "_uuid": "487cbebdc5561f76d83ae2911dda555ef2971168",
    "id": "vJDqKCc8cTf4"
   },
   "source": [
    "Next, we compare the correlation between features and remove one of two features that have a correlation higher than 0.9"
   ]
  },
  {
   "cell_type": "code",
   "execution_count": 8,
   "metadata": {
    "_uuid": "455d0943dca0bd6acffa4e5c311177f302aa0ff1",
    "id": "DXObLvGWcTf7"
   },
   "outputs": [],
   "source": [
    "columns = np.full((corr.shape[0],), True, dtype=bool)\n",
    "for i in range(corr.shape[0]):\n",
    "    for j in range(i+1, corr.shape[0]):\n",
    "        if corr.iloc[i,j] >= 0.9:\n",
    "            if columns[j]:\n",
    "                columns[j] = False"
   ]
  },
  {
   "cell_type": "code",
   "execution_count": 9,
   "metadata": {
    "_uuid": "04ac00d25fc72d1ed799859ffc30a6a7cd250b6e",
    "colab": {
     "base_uri": "https://localhost:8080/"
    },
    "id": "GpzGxza5cTgH",
    "outputId": "b690fc4b-1e38-464f-d1b4-3aa0441830a6"
   },
   "outputs": [
    {
     "data": {
      "text/plain": [
       "(2,)"
      ]
     },
     "execution_count": 9,
     "metadata": {},
     "output_type": "execute_result"
    }
   ],
   "source": [
    "selected_columns = data.columns[columns]\n",
    "selected_columns.shape"
   ]
  },
  {
   "cell_type": "code",
   "execution_count": 10,
   "metadata": {
    "_uuid": "c4d59498f6e444ccdf130fd8ebc2169447c14a32",
    "colab": {
     "base_uri": "https://localhost:8080/"
    },
    "id": "hJZqaLENcTgg",
    "outputId": "f2c2eaea-533b-4da1-a9cb-027cfa3b630a"
   },
   "outputs": [
    {
     "name": "stdout",
     "output_type": "stream",
     "text": [
      "    X1   X4\n",
      "0    1   -2\n",
      "1    2   -4\n",
      "2    3    3\n",
      "3    4    4\n",
      "4    5   25\n",
      "5    6   76\n",
      "6    7   34\n",
      "7    8  346\n",
      "8    9   67\n",
      "9   10    3\n",
      "10  11  355\n",
      "11  12   88\n",
      "12  13    2\n",
      "13  14    1\n"
     ]
    }
   ],
   "source": [
    "data = data[selected_columns]\n",
    "print(data)"
   ]
  }
 ],
 "metadata": {
  "colab": {
   "name": "4feature-selection-correlation.ipynb",
   "provenance": []
  },
  "kernelspec": {
   "display_name": "Python 3",
   "language": "python",
   "name": "python3"
  },
  "language_info": {
   "codemirror_mode": {
    "name": "ipython",
    "version": 3
   },
   "file_extension": ".py",
   "mimetype": "text/x-python",
   "name": "python",
   "nbconvert_exporter": "python",
   "pygments_lexer": "ipython3",
   "version": "3.8.5"
  }
 },
 "nbformat": 4,
 "nbformat_minor": 1
}
