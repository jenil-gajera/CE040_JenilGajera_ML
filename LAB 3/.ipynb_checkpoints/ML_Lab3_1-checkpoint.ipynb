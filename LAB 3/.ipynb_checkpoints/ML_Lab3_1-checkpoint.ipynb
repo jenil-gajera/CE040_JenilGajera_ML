{
 "cells": [
  {
   "cell_type": "code",
   "execution_count": 1,
   "metadata": {},
   "outputs": [],
   "source": [
    "#libraries\n",
    "from sklearn import datasets, preprocessing\n",
    "from sklearn.naive_bayes import GaussianNB, MultinomialNB\n",
    "import numpy as np"
   ]
  },
  {
   "cell_type": "code",
   "execution_count": 2,
   "metadata": {},
   "outputs": [],
   "source": [
    "#Weather_Classifire\n",
    "weather = ['Sunny', 'Sunny', 'Overcast', 'Rainy', 'Rainy','Rainy', 'Overcast',\n",
    "'Sunny', 'Sunny', 'Rainy', 'Sunny', 'Overcast', 'Overcast', 'Rainy']\n",
    "\n",
    "temp = ['Hot','Hot','Hot','Mild','Cool','Cool','Cool','Mild',\n",
    "'Cool','Mild','Mild','Mild','Hot','Mild']\n",
    "\n",
    "play=['No','No','Yes','Yes','Yes','No','Yes','No','Yes',\n",
    "'Yes','Yes','Yes','Yes','No']"
   ]
  },
  {
   "cell_type": "code",
   "execution_count": 4,
   "metadata": {},
   "outputs": [
    {
     "name": "stdout",
     "output_type": "stream",
     "text": [
      "\n",
      "Weather:\n",
      " ['Sunny', 'Sunny', 'Overcast', 'Rainy', 'Rainy', 'Rainy', 'Overcast', 'Sunny', 'Sunny', 'Rainy', 'Sunny', 'Overcast', 'Overcast', 'Rainy']\n",
      "\n",
      "Weather_encode:\n",
      " [2 2 0 1 1 1 0 2 2 1 2 0 0 1]\n",
      "\n",
      "Temp:\n",
      " ['Hot', 'Hot', 'Hot', 'Mild', 'Cool', 'Cool', 'Cool', 'Mild', 'Cool', 'Mild', 'Mild', 'Mild', 'Hot', 'Mild']\n",
      "\n",
      "Temp:\n",
      " [1 1 1 2 0 0 0 2 0 2 2 2 1 2]\n",
      "\n",
      "Play:\n",
      " ['No', 'No', 'Yes', 'Yes', 'Yes', 'No', 'Yes', 'No', 'Yes', 'Yes', 'Yes', 'Yes', 'Yes', 'No']\n"
     ]
    }
   ],
   "source": [
    "#preprocessing\n",
    "le = preprocessing.LabelEncoder()\n",
    "weather_encode = le.fit_transform(weather)\n",
    "temp_encode = le.fit_transform(temp)\n",
    "#label = le.fit_transform(play)\n",
    "print(\"\\nWeather:\\n\",weather)\n",
    "print(\"\\nWeather_encode:\\n\",weather_encode)\n",
    "print(\"\\nTemp:\\n\",temp)\n",
    "print(\"\\nTemp:\\n\",temp_encode)\n",
    "print(\"\\nPlay:\\n\",play)\n",
    "#print(\"\\nPlay_Label:\\n\",label)"
   ]
  },
  {
   "cell_type": "code",
   "execution_count": 5,
   "metadata": {},
   "outputs": [
    {
     "name": "stdout",
     "output_type": "stream",
     "text": [
      "\n",
      "Features:\n",
      " ((2, 1), (2, 1), (0, 1), (1, 2), (1, 0), (1, 0), (0, 0), (2, 2), (2, 0), (1, 2), (2, 2), (0, 2), (0, 1), (1, 2))\n"
     ]
    }
   ],
   "source": [
    "#Describing features and labels\n",
    "features = tuple(zip(weather_encode,temp_encode))\n",
    "print(\"\\nFeatures:\\n\",features)"
   ]
  },
  {
   "cell_type": "code",
   "execution_count": 6,
   "metadata": {},
   "outputs": [
    {
     "data": {
      "text/plain": [
       "MultinomialNB()"
      ]
     },
     "execution_count": 6,
     "metadata": {},
     "output_type": "execute_result"
    }
   ],
   "source": [
    "#Nb_Classifire_Weather\n",
    "\n",
    "model_MNB = MultinomialNB()\n",
    "model_MNB.fit(features,play)"
   ]
  },
  {
   "cell_type": "code",
   "execution_count": 7,
   "metadata": {},
   "outputs": [
    {
     "name": "stdout",
     "output_type": "stream",
     "text": [
      "Will you play if the temperature is 'Hot' and weather is 'overcast'?\n",
      "['Yes']\n",
      "Will you play if the temperature is 'Mild' and weather is 'Sunny'?\n",
      "['Yes']\n"
     ]
    }
   ],
   "source": [
    "# Weather\n",
    "# OverCast = 0\n",
    "# Rainy = 1\n",
    "# Sunny = 2\n",
    "\n",
    "# Temp\n",
    "# Cool = 0\n",
    "# Hot = 1\n",
    "# Mild =2\n",
    "\n",
    "# We ziiped features in order of weather then temp\n",
    "# features = tuple(zip(weather_encode,temp_encode))\n",
    "# So you have to put values accordingly in sequence in\n",
    "\n",
    "\n",
    "\n",
    "# model_MNB.predict([[weather,temp]])\n",
    "\n",
    "\n",
    "print(\"Will you play if the temperature is 'Hot' and weather is 'overcast'?\")\n",
    "print(model_MNB.predict([[0,1]]))\n",
    "print(\"Will you play if the temperature is 'Mild' and weather is 'Sunny'?\")\n",
    "print(model_MNB.predict([[2,2]]))"
   ]
  },
  {
   "cell_type": "code",
   "execution_count": null,
   "metadata": {},
   "outputs": [],
   "source": []
  }
 ],
 "metadata": {
  "kernelspec": {
   "display_name": "Python 3",
   "language": "python",
   "name": "python3"
  },
  "language_info": {
   "codemirror_mode": {
    "name": "ipython",
    "version": 3
   },
   "file_extension": ".py",
   "mimetype": "text/x-python",
   "name": "python",
   "nbconvert_exporter": "python",
   "pygments_lexer": "ipython3",
   "version": "3.8.5"
  }
 },
 "nbformat": 4,
 "nbformat_minor": 4
}
