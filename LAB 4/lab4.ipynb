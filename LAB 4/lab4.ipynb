{
  "nbformat": 4,
  "nbformat_minor": 0,
  "metadata": {
    "colab": {
      "name": "lab4.ipynb",
      "provenance": [],
      "collapsed_sections": []
    },
    "kernelspec": {
      "name": "python3",
      "display_name": "Python 3"
    },
    "language_info": {
      "name": "python"
    }
  },
  "cells": [
    {
      "cell_type": "markdown",
      "source": [
        "**AIM : Implement Linear Regression Algorithm on the given dataset.**\n",
        "**Exercise 1: Try Linear Regression just using numpy (Without Tensorflow/Pytorch or other torch library). You can optionally use sklearn.**"
      ],
      "metadata": {
        "id": "U__P65pAyFTs"
      }
    },
    {
      "cell_type": "code",
      "source": [
        "import numpy as np\n",
        "import torch"
      ],
      "metadata": {
        "id": "VfAZ6roYyejK"
      },
      "execution_count": 1,
      "outputs": []
    },
    {
      "cell_type": "code",
      "source": [
        "#Input (Temp, Rainfall, Humidity)\n",
        "inputs = np.array([[73, 67, 43],\n",
        "                  [91, 88, 64],\n",
        "                  [87, 134, 58],\n",
        "                  [102, 43, 37],\n",
        "                  [69, 96, 70]], dtype='float32')\n",
        "\n",
        "#Target (Apples)\n",
        "targets = np.array([[56],\n",
        "                    [81],\n",
        "                    [119],\n",
        "                    [22],\n",
        "                    [103]], dtype='float32')\n",
        "\n",
        "#Converting inputs and targets to tensors\n",
        "inputs = torch.from_numpy(inputs)\n",
        "targets = torch.from_numpy(targets)"
      ],
      "metadata": {
        "id": "ItM33TcNytS6"
      },
      "execution_count": 2,
      "outputs": []
    },
    {
      "cell_type": "code",
      "source": [
        "#Weights and Biases\n",
        "w = torch.randn(1, 3, requires_grad=True)\n",
        "b = torch.randn(1, requires_grad=True)\n",
        "\n",
        "print(\"Weights : \\n\", w)\n",
        "print(\"\\nBiases : \\n\", b)"
      ],
      "metadata": {
        "colab": {
          "base_uri": "https://localhost:8080/"
        },
        "id": "vg8GaASuyxhq",
        "outputId": "9a04fe4e-6e20-40a8-ae1a-a4210f07f674"
      },
      "execution_count": 3,
      "outputs": [
        {
          "output_type": "stream",
          "name": "stdout",
          "text": [
            "Weights : \n",
            " tensor([[-1.9858,  0.1541,  0.2423]], requires_grad=True)\n",
            "\n",
            "Biases : \n",
            " tensor([-1.5206], requires_grad=True)\n"
          ]
        }
      ]
    },
    {
      "cell_type": "code",
      "source": [
        "#Defining the model\n",
        "def model(x):\n",
        "    return  torch.mm(x, w.t(), out=None) + b"
      ],
      "metadata": {
        "id": "3_dyt6Hpy0g4"
      },
      "execution_count": 4,
      "outputs": []
    },
    {
      "cell_type": "code",
      "source": [
        "#Generating Predictions\n",
        "preds = model(inputs)\n",
        "\n",
        "#Comparing Predictions with targets\n",
        "print(\"Predictions : \\n\", preds)\n",
        "print(\"\\nTargets : \\n\", targets)"
      ],
      "metadata": {
        "colab": {
          "base_uri": "https://localhost:8080/"
        },
        "id": "zsl6LVUUy9pe",
        "outputId": "5843a070-2ba9-4ee8-c4a2-ea476b14dbda"
      },
      "execution_count": 5,
      "outputs": [
        {
          "output_type": "stream",
          "name": "stdout",
          "text": [
            "Predictions : \n",
            " tensor([[-125.7425],\n",
            "        [-153.1629],\n",
            "        [-139.5860],\n",
            "        [-188.4832],\n",
            "        [-106.7882]], grad_fn=<AddBackward0>)\n",
            "\n",
            "Targets : \n",
            " tensor([[ 56.],\n",
            "        [ 81.],\n",
            "        [119.],\n",
            "        [ 22.],\n",
            "        [103.]])\n"
          ]
        }
      ]
    },
    {
      "cell_type": "code",
      "source": [
        "#Defining MSE loss function\n",
        "def MSELoss(P, T): \n",
        "  sum = 0\n",
        "  n = len(T)\n",
        "  for j in range(0, n):\n",
        "    sum += (T[j] - P[j]) * (T[j] - P[j])\n",
        "  return sum / n\n",
        "\n",
        "loss = MSELoss(preds, targets)\n",
        "print(\"MSE Loss : \", loss[0])"
      ],
      "metadata": {
        "colab": {
          "base_uri": "https://localhost:8080/"
        },
        "id": "518dQBIazMnB",
        "outputId": "04fe4b47-441f-43fa-eb15-a0a676d0b0b8"
      },
      "execution_count": 6,
      "outputs": [
        {
          "output_type": "stream",
          "name": "stdout",
          "text": [
            "MSE Loss :  tensor(48608.7109, grad_fn=<SelectBackward0>)\n"
          ]
        }
      ]
    },
    {
      "cell_type": "code",
      "source": [
        "#Computing Gradient\n",
        "loss.backward()\n",
        "print(\"Gradients for weights : \\n\", w.grad)\n",
        "print(\"\\nGradient for biases: \\n\", b.grad)"
      ],
      "metadata": {
        "colab": {
          "base_uri": "https://localhost:8080/"
        },
        "id": "ZB-84pVizQgv",
        "outputId": "ce0b059a-6795-4120-a271-72d815d2216c"
      },
      "execution_count": 7,
      "outputs": [
        {
          "output_type": "stream",
          "name": "stdout",
          "text": [
            "Gradients for weights : \n",
            " tensor([[-37207.0703, -38649.6172, -24108.9551]])\n",
            "\n",
            "Gradient for biases: \n",
            " tensor([-437.9051])\n"
          ]
        }
      ]
    },
    {
      "cell_type": "code",
      "source": [
        "#Adjusting weights and biases using Gradient Descent\n",
        "#Reseting gradients\n",
        "with torch.no_grad():\n",
        "    w -= w.grad * 1e-5\n",
        "    b -= b.grad * 1e-5\n",
        "    w.grad.zero_()\n",
        "    b.grad.zero_()\n",
        "\n",
        "print(\"Gradients for weights : \\n\", w.grad)\n",
        "print(\"\\nGradient for biases: \\n\", b.grad)\n",
        "\n",
        "print(\"\\nNew Weights : \\n\", w)\n",
        "print(\"\\nNew Biases : \\n\", b)"
      ],
      "metadata": {
        "colab": {
          "base_uri": "https://localhost:8080/"
        },
        "id": "sUNEt62xzVNa",
        "outputId": "1f606052-b872-43f1-8b28-deb352b586a5"
      },
      "execution_count": 8,
      "outputs": [
        {
          "output_type": "stream",
          "name": "stdout",
          "text": [
            "Gradients for weights : \n",
            " tensor([[0., 0., 0.]])\n",
            "\n",
            "Gradient for biases: \n",
            " tensor([0.])\n",
            "\n",
            "New Weights : \n",
            " tensor([[-1.6138,  0.5406,  0.4834]], requires_grad=True)\n",
            "\n",
            "New Biases : \n",
            " tensor([-1.5162], requires_grad=True)\n"
          ]
        }
      ]
    },
    {
      "cell_type": "code",
      "source": [
        "#Calculating  new loss\n",
        "preds = model(inputs)\n",
        "\n",
        "loss = MSELoss(preds, targets)\n",
        "print(\"New MSE Loss : \", loss[0])"
      ],
      "metadata": {
        "colab": {
          "base_uri": "https://localhost:8080/"
        },
        "id": "Rmwi3RD2zZk8",
        "outputId": "1c71b417-c5bd-4058-eeeb-b60337c5010b"
      },
      "execution_count": 9,
      "outputs": [
        {
          "output_type": "stream",
          "name": "stdout",
          "text": [
            "New MSE Loss :  tensor(20207.3164, grad_fn=<SelectBackward0>)\n"
          ]
        }
      ]
    },
    {
      "cell_type": "code",
      "source": [
        "# Train for 100 epochs\n",
        "for i in range(100):\n",
        "    preds = model(inputs)\n",
        "    loss = MSELoss(preds, targets)\n",
        "    loss.backward()\n",
        "    with torch.no_grad():\n",
        "        w -= w.grad * 1e-5\n",
        "        b -= b.grad * 1e-5\n",
        "        w.grad.zero_()\n",
        "        b.grad.zero_()\n",
        "\n",
        "preds = model(inputs)\n",
        "loss = MSELoss(preds, targets)\n",
        "print(\"MSE Loss : \", loss[0])"
      ],
      "metadata": {
        "colab": {
          "base_uri": "https://localhost:8080/"
        },
        "id": "loMbPbnKzdUE",
        "outputId": "f994083f-92fd-4fae-e1ca-6755529ebf28"
      },
      "execution_count": 10,
      "outputs": [
        {
          "output_type": "stream",
          "name": "stdout",
          "text": [
            "MSE Loss :  tensor(27.7097, grad_fn=<SelectBackward0>)\n"
          ]
        }
      ]
    },
    {
      "cell_type": "markdown",
      "source": [
        "**Exercise 2: Try Linear regression on same prediction data using Tensorflow**"
      ],
      "metadata": {
        "id": "EDGAgLBOzibi"
      }
    },
    {
      "cell_type": "code",
      "source": [
        "import torch.nn as nn"
      ],
      "metadata": {
        "id": "1wXVstg2zoUU"
      },
      "execution_count": 11,
      "outputs": []
    },
    {
      "cell_type": "code",
      "source": [
        "#Input (Temp, Rainfall, Humidity)\n",
        "inputs = np.array([[73, 67, 43],\n",
        "                  [91, 88, 64],\n",
        "                  [87, 134, 58],\n",
        "                  [102, 43, 37],\n",
        "                  [69, 96, 70]], dtype='float32')\n",
        "\n",
        "#Target (Apples)\n",
        "targets = np.array([[56],\n",
        "                    [81],\n",
        "                    [119],\n",
        "                    [22],\n",
        "                    [103]], dtype='float32')\n",
        "\n",
        "#Converting inputs and targets to tensors\n",
        "inputs = torch.from_numpy(inputs)\n",
        "targets = torch.from_numpy(targets)"
      ],
      "metadata": {
        "id": "DsAU9wVMzr4q"
      },
      "execution_count": 12,
      "outputs": []
    },
    {
      "cell_type": "code",
      "source": [
        "#Weights and Biases\n",
        "w = torch.randn(1, 3, requires_grad=True)\n",
        "b = torch.randn(1, requires_grad=True)\n",
        "\n",
        "print(\"Weights : \\n\", w)\n",
        "print(\"\\nBiases : \\n\", b)"
      ],
      "metadata": {
        "colab": {
          "base_uri": "https://localhost:8080/"
        },
        "id": "nZLWNAXQzuZJ",
        "outputId": "e709e5fa-0cde-4208-d9ea-7a0893411d79"
      },
      "execution_count": 13,
      "outputs": [
        {
          "output_type": "stream",
          "name": "stdout",
          "text": [
            "Weights : \n",
            " tensor([[-1.3378,  1.2460, -0.1562]], requires_grad=True)\n",
            "\n",
            "Biases : \n",
            " tensor([-0.3494], requires_grad=True)\n"
          ]
        }
      ]
    },
    {
      "cell_type": "code",
      "source": [
        "#Defining the model\n",
        "def model(x):\n",
        "    return  x @ w.t() + b"
      ],
      "metadata": {
        "id": "QeXA-5-fzyHb"
      },
      "execution_count": 14,
      "outputs": []
    },
    {
      "cell_type": "code",
      "source": [
        "#Generating Predictions\n",
        "preds = model(inputs)\n",
        "\n",
        "#Comparing Predictions with targets\n",
        "print(\"Predictions : \\n\", preds)\n",
        "print(\"\\nTargets : \\n\", targets)"
      ],
      "metadata": {
        "colab": {
          "base_uri": "https://localhost:8080/"
        },
        "id": "Rogs_leez3wd",
        "outputId": "787c005f-200e-4d44-ff90-fe45fa4f7676"
      },
      "execution_count": 15,
      "outputs": [
        {
          "output_type": "stream",
          "name": "stdout",
          "text": [
            "Predictions : \n",
            " tensor([[-21.2446],\n",
            "        [-22.4399],\n",
            "        [ 41.1634],\n",
            "        [-89.0064],\n",
            "        [ 16.0218]], grad_fn=<AddBackward0>)\n",
            "\n",
            "Targets : \n",
            " tensor([[ 56.],\n",
            "        [ 81.],\n",
            "        [119.],\n",
            "        [ 22.],\n",
            "        [103.]])\n"
          ]
        }
      ]
    },
    {
      "cell_type": "code",
      "source": [
        "MSELoss = nn.MSELoss()\n",
        "loss = MSELoss(preds, targets)\n",
        "print(\"MSE Loss : \", loss)"
      ],
      "metadata": {
        "colab": {
          "base_uri": "https://localhost:8080/"
        },
        "id": "5fBue-dVz8h2",
        "outputId": "b186a4b4-27b3-4496-aa35-e8792af67237"
      },
      "execution_count": 16,
      "outputs": [
        {
          "output_type": "stream",
          "name": "stdout",
          "text": [
            "MSE Loss :  tensor(8522.5400, grad_fn=<MseLossBackward0>)\n"
          ]
        }
      ]
    },
    {
      "cell_type": "code",
      "source": [
        "#Computing Gradient\n",
        "loss.backward()\n",
        "print(\"\\nGradients for weights : \\n\", w.grad)\n",
        "print(\"\\nGradient for biases: \\n\", b.grad)"
      ],
      "metadata": {
        "colab": {
          "base_uri": "https://localhost:8080/"
        },
        "id": "hxFLodfUz_N_",
        "outputId": "b606b10c-bae9-4976-c2ac-b8599e857a04"
      },
      "execution_count": 17,
      "outputs": [
        {
          "output_type": "stream",
          "name": "stdout",
          "text": [
            "\n",
            "Gradients for weights : \n",
            " tensor([[-15659.1270, -15132.5537,  -9860.7617]])\n",
            "\n",
            "Gradient for biases: \n",
            " tensor([-182.6023])\n"
          ]
        }
      ]
    },
    {
      "cell_type": "code",
      "source": [
        "# Train for 100 epochs\n",
        "for i in range(100):\n",
        "    preds = model(inputs)\n",
        "    loss = MSELoss(preds, targets)\n",
        "    loss.backward()\n",
        "    with torch.no_grad():\n",
        "        w -= w.grad * 1e-5\n",
        "        b -= b.grad * 1e-5\n",
        "        w.grad.zero_()\n",
        "        b.grad.zero_()\n",
        "\n",
        "preds = model(inputs)\n",
        "loss = MSELoss(preds, targets)\n",
        "print(\"MSE Loss : \", loss)"
      ],
      "metadata": {
        "colab": {
          "base_uri": "https://localhost:8080/"
        },
        "id": "PI-b5J-W0Cki",
        "outputId": "4fc05fd7-520a-498a-f33a-92b3260f14fb"
      },
      "execution_count": 18,
      "outputs": [
        {
          "output_type": "stream",
          "name": "stdout",
          "text": [
            "MSE Loss :  tensor(72.1748, grad_fn=<MseLossBackward0>)\n"
          ]
        }
      ]
    }
  ]
}